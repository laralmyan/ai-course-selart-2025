{
 "cells": [
  {
   "cell_type": "code",
   "execution_count": null,
   "id": "82327639",
   "metadata": {},
   "outputs": [],
   "source": [
    "import numpy as np\n",
    "import pandas as pd\n",
    "import matplotlib.pyplot as plt\n",
    "\n",
    "print(\"Libraries imported successfully!\")"
   ]
  },
  {
   "cell_type": "code",
   "execution_count": null,
   "id": "6048cbe7",
   "metadata": {},
   "outputs": [],
   "source": [
    "df = pd.read_csv(\"CarData.csv\")"
   ]
  },
  {
   "cell_type": "code",
   "execution_count": null,
   "id": "34755f70",
   "metadata": {},
   "outputs": [],
   "source": [
    "print(df.head())\n",
    "print(df.info())\n",
    "print(df.describe())\n",
    "print(df.columns)"
   ]
  },
  {
   "cell_type": "code",
   "execution_count": null,
   "id": "8f898c37",
   "metadata": {},
   "outputs": [],
   "source": [
    "average_price = df[\"price_usd\"].mean()\n",
    "print(f\"The average car price is: ${average_price:,.2f}\")"
   ]
  },
  {
   "cell_type": "code",
   "execution_count": null,
   "id": "44e66051",
   "metadata": {},
   "outputs": [],
   "source": [
    "powerful_cars = df[df[\"hp \"]>300]\n",
    "print(\"Cars with more than 300 horsepower:\")\n",
    "print(powerful_cars)"
   ]
  },
  {
   "cell_type": "code",
   "execution_count": null,
   "id": "bdbd06e1",
   "metadata": {},
   "outputs": [],
   "source": [
    "plt.figure(figsize=(10, 6))  # Setting chart size\n",
    "\n",
    "plt.bar(df[\"model\"], df[\"price_usd\"], color=\"skyblue\") # Creating the bar chart\n",
    "\n",
    "plt.title(\"Price of Car Models\")       # Adding a title\n",
    "plt.xlabel(\"Car Model\")                # Labeling x-axis\n",
    "plt.ylabel(\"Price (USD)\")              # Labeling y-axis\n",
    "plt.xticks(rotation=45, ha=\"right\")    # Rotating model names for readability\n",
    "\n",
    "plt.tight_layout()  # Prevent labels from getting cut off\n",
    "plt.show()          # Display the chart"
   ]
  },
  {
   "cell_type": "code",
   "execution_count": null,
   "id": "39660286",
   "metadata": {},
   "outputs": [],
   "source": [
    "plt.figure(figsize=(10,6))\n",
    "\n",
    "plt.scatter(df[\"hp \"], df[\"price_usd\"], color=\"teal\", alpha=0.7, edgecolor=\"black\")\n",
    "\n",
    "plt.title(\"Horsepower vs. Price\")    # Chart title\n",
    "plt.xlabel(\"Horsepower (hp)\")        # X-axis label\n",
    "plt.ylabel(\"Price (USD)\")            # Y-axis label\n",
    "\n",
    "plt.grid(True, linestyle=\"--\", alpha=0.6)  # Adding a grid for clarity\n",
    "plt.tight_layout()\n",
    "plt.show()"
   ]
  },
  {
   "cell_type": "code",
   "execution_count": null,
   "id": "13001892",
   "metadata": {},
   "outputs": [],
   "source": []
  }
 ],
 "metadata": {
  "kernelspec": {
   "display_name": "Python 3",
   "language": "python",
   "name": "python3"
  },
  "language_info": {
   "codemirror_mode": {
    "name": "ipython",
    "version": 3
   },
   "file_extension": ".py",
   "mimetype": "text/x-python",
   "name": "python",
   "nbconvert_exporter": "python",
   "pygments_lexer": "ipython3",
   "version": "3.13.9"
  }
 },
 "nbformat": 4,
 "nbformat_minor": 5
}
